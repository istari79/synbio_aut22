{
 "cells": [
  {
   "cell_type": "markdown",
   "metadata": {},
   "source": [
    "# HW 1 #"
   ]
  },
  {
   "cell_type": "markdown",
   "metadata": {},
   "source": [
    "## Question 1 ##"
   ]
  },
  {
   "cell_type": "markdown",
   "metadata": {},
   "source": [
    "### 1. Read the article on DNA synthesis (“Kosuri-Church-nmeth.2918.pdf”) and answer the following questions. ###"
   ]
  },
  {
   "cell_type": "markdown",
   "metadata": {},
   "source": [
    "##### a. **(3 points)** Phosphoramidite-based oligo synthesis, the dominant commercial oligo synthesis technique, is limited to lengths of ~200 nt. What is the source of this limitation? #####"
   ]
  },
  {
   "cell_type": "markdown",
   "metadata": {},
   "source": [
    "(your response to 1a goes here)"
   ]
  },
  {
   "cell_type": "markdown",
   "metadata": {},
   "source": [
    "##### b. **(3 points)** Oligo synthesis and assembly techniques produce some errors. How can these errors be corrected (describe 2 ways)? #####"
   ]
  },
  {
   "cell_type": "markdown",
   "metadata": {},
   "source": [
    "(your response to 1b goes here)"
   ]
  },
  {
   "cell_type": "markdown",
   "metadata": {},
   "source": [
    "## Question 2 ##"
   ]
  },
  {
   "cell_type": "markdown",
   "metadata": {},
   "source": [
    "### 2. In this assignment, you will get familiar with the Central Dogma (by implementing it). You should only use standard libraries/packages when coding this assignment. You’re not allowed to simply call ready-made functions from some Bio-library. ###"
   ]
  },
  {
   "cell_type": "code",
   "execution_count": 25,
   "metadata": {},
   "outputs": [],
   "source": [
    "#\n",
    "# Helpful dictionary for looking up the reverse complement base.\n",
    "# Example: BASE_PAIRS['A'] -> 'T'\n",
    "#\n",
    "BASE_PAIRS = {\n",
    "    'A' : 'T',\n",
    "    'C' : 'G',\n",
    "    'G' : 'C',\n",
    "    'T' : 'A'\n",
    "}\n",
    "\n",
    "#\n",
    "# Helpful dictionary for looking up an Amino acid given a codon.\n",
    "# Example: CODON_TO_AMINO['CUG'] -> 'Leu'\n",
    "#\n",
    "CODON_TO_AMINO = {\n",
    "    'UUU' : 'Phe',\n",
    "    'UUC' : 'Phe',\n",
    "    'UUA' : 'Leu',\n",
    "    'UUG' : 'Leu',\n",
    "    'UCU' : 'Ser',\n",
    "    'UCC' : 'Ser',\n",
    "    'UCA' : 'Ser',\n",
    "    'UCG' : 'Ser',\n",
    "    'UAU' : 'Tyr',\n",
    "    'UAC' : 'Tyr',\n",
    "    'UAA' : 'STOP',\n",
    "    'UAG' : 'STOP',\n",
    "    'UGU' : 'Cys',\n",
    "    'UGC' : 'Cys',\n",
    "    'UGA' : 'STOP',\n",
    "    'UGG' : 'Trp',\n",
    "    'CUU' : 'Leu',\n",
    "    'CUC' : 'Leu',\n",
    "    'CUA' : 'Leu',\n",
    "    'CUG' : 'Leu',\n",
    "    'CCU' : 'Pro',\n",
    "    'CCC' : 'Pro',\n",
    "    'CCA' : 'Pro',\n",
    "    'CCG' : 'Pro',\n",
    "    'CAU' : 'His',\n",
    "    'CAC' : 'His',\n",
    "    'CAA' : 'Gln',\n",
    "    'CAG' : 'Gln',\n",
    "    'CGU' : 'Arg',\n",
    "    'CGC' : 'Arg',\n",
    "    'CGA' : 'Arg',\n",
    "    'CGG' : 'Arg',\n",
    "    'AUU' : 'Ile',\n",
    "    'AUC' : 'Ile',\n",
    "    'AUA' : 'Ile',\n",
    "    'AUG' : 'Met',\n",
    "    'ACU' : 'Thr',\n",
    "    'ACC' : 'Thr',\n",
    "    'ACA' : 'Thr',\n",
    "    'ACG' : 'Thr',\n",
    "    'AAU' : 'Asn',\n",
    "    'AAC' : 'Asn',\n",
    "    'AAA' : 'Lys',\n",
    "    'AAG' : 'Lys',\n",
    "    'AGU' : 'Ser',\n",
    "    'AGC' : 'Ser',\n",
    "    'AGA' : 'Arg',\n",
    "    'AGG' : 'Arg',\n",
    "    'GUU' : 'Val',\n",
    "    'GUC' : 'Val',\n",
    "    'GUA' : 'Val',\n",
    "    'GUG' : 'Val',\n",
    "    'GCU' : 'Ala',\n",
    "    'GCC' : 'Ala',\n",
    "    'GCA' : 'Ala',\n",
    "    'GCG' : 'Ala',\n",
    "    'GAU' : 'Asp',\n",
    "    'GAC' : 'Asp',\n",
    "    'GAA' : 'Glu',\n",
    "    'GAG' : 'Glu',\n",
    "    'GGU' : 'Gly',\n",
    "    'GGC' : 'Gly',\n",
    "    'GGA' : 'Gly',\n",
    "    'GGG' : 'Gly'\n",
    "}\n"
   ]
  },
  {
   "cell_type": "markdown",
   "metadata": {},
   "source": [
    "##### a. **(2 points)** Implement a function that takes single-stranded DNA as input, and outputs the reverse complementary DNA sequence. Use your function to reverse-complement the following sequences: #####\n",
    "1: CTTCTTCTACTTCTTTCCTCCCATGGAACAAC\n",
    "\n",
    "2: TCAACGACGCATCATACGCATACG"
   ]
  },
  {
   "cell_type": "code",
   "execution_count": 26,
   "metadata": {},
   "outputs": [
    {
     "name": "stdout",
     "output_type": "stream",
     "text": [
      "GTTGTTCCATGGGAGGAAAGAAGTAGAAGAAG\n",
      "CGTATGCGTATGATGCGTCGTTGA\n"
     ]
    }
   ],
   "source": [
    "###\n",
    "#\n",
    "# Problem 2.a\n",
    "# Implement the function reverse_complement.\n",
    "# The function takes as input a single-stranded DNA sequence.\n",
    "# It should return the reverse complementary DNA sequence.\n",
    "# Note: The function should work correctly on any DNA sequence input.\n",
    "#\n",
    "###\n",
    "\n",
    "def reverse_complement(seq):\n",
    "    ans = \"\"\n",
    "    for base in reversed(seq):\n",
    "        ans += BASE_PAIRS[base]\n",
    "    return ans\n",
    "\n",
    "\n",
    "dna = 'CTTCTTCTACTTCTTTCCTCCCATGGAACAAC'\n",
    "print(reverse_complement(dna))\n",
    "\n",
    "dna = 'TCAACGACGCATCATACGCATACG'\n",
    "print(reverse_complement(dna))\n"
   ]
  },
  {
   "cell_type": "markdown",
   "metadata": {},
   "source": [
    "##### b. **(2 points)** Implement a function that takes a DNA sequence as input, and produces an RNA sequence as output. Do not worry about finding the promoter, terminator, etc. You only need to exchange Thymine nucleotides with Uracil. Use your function to convert the following sequences into RNA: #####\n",
    "1: CTTCTTCTACTTCTTTCCTCCCATGGAACAAC\n",
    "\n",
    "2: TCAACGACGCATCATACGCATACG"
   ]
  },
  {
   "cell_type": "code",
   "execution_count": 32,
   "metadata": {},
   "outputs": [
    {
     "name": "stdout",
     "output_type": "stream",
     "text": [
      "CUUCUUCUACUUCUUUCCUCCCAUGGAACAAC\n",
      "UCAACGACGCAUCAUACGCAUACG\n"
     ]
    }
   ],
   "source": [
    "###\n",
    "#\n",
    "# Problem 2.b\n",
    "# Implement the function convert_dna_to_rna.\n",
    "# The function takes as input a DNA sequence.\n",
    "# It should return the corresponding RNA sequence.\n",
    "# Note: The function should work correctly on any DNA sequence input.\n",
    "#\n",
    "###\n",
    "\n",
    "def convert_dna_to_rna(dna):\n",
    "    rna = \"\"\n",
    "    for base in dna:\n",
    "        if (base == 'T'):\n",
    "            rna += 'U'\n",
    "        else:\n",
    "            rna += base\n",
    "    return rna\n",
    "\n",
    "\n",
    "dna = 'CTTCTTCTACTTCTTTCCTCCCATGGAACAAC'\n",
    "print(convert_dna_to_rna(dna))\n",
    "\n",
    "dna = 'TCAACGACGCATCATACGCATACG'\n",
    "print(convert_dna_to_rna(dna))\n"
   ]
  },
  {
   "cell_type": "markdown",
   "metadata": {},
   "source": [
    "##### c. **(2 points)** Implement a function that takes RNA as input and produces the correct (longest) sequence of Amino acids. In your function, you need to search for the start codon and stop codon. The Amino acid of the start codon should be included in the output. Use your function to produce Amino acid sequences of the following RNA: #####\n",
    "1: CTTCTTCTACTTCTTTCCTCCCATGGAACAAC\n",
    "\n",
    "2: TCAACGACGCATCATACGCATACG\n",
    "\n",
    "#### The output should be formatted as “Met - Arg - Ser - Foo - Bar” ####"
   ]
  },
  {
   "cell_type": "code",
   "execution_count": 30,
   "metadata": {},
   "outputs": [
    {
     "name": "stdout",
     "output_type": "stream",
     "text": [
      "Met - Met - Glu - Glu - Arg - Arg\n",
      "Met - Ala - Ala - Gly - Gly - Lys - Lys - Gly - Gly - His - His - Ser - Ser\n"
     ]
    }
   ],
   "source": [
    "###\n",
    "#\n",
    "# Problem 2.c\n",
    "# Implement the function convert_rna_to_aminoacids.\n",
    "# The function takes as input an RNA sequence.\n",
    "# It should return the corresponding Amino acid sequence.\n",
    "# Only Aminoacids between the Start- and Stop codons should be returned (the Start codon should be included in output).\n",
    "# Note: The function should work correctly on any RNA sequence input with valid Start/Stop-codons.\n",
    "# The function already includes code to find the position of the Start codon.\n",
    "#\n",
    "###\n",
    "\n",
    "def convert_rna_to_aminoacids(rna):\n",
    "    # Code to find the position of the Start codon (Met)\n",
    "    start_codon_position = -1\n",
    "    for j in range(0, len(rna) - 2):\n",
    "        codon = rna[j:j + 3]\n",
    "\n",
    "        if codon in CODON_TO_AMINO and CODON_TO_AMINO[codon] == 'Met':\n",
    "            start_codon_position = j\n",
    "            break\n",
    "\n",
    "    # Return empty string if no start codon was found\n",
    "    if start_codon_position == -1:\n",
    "        return ''\n",
    "\n",
    "    # TODO: Complete the rest of the function from this point.\n",
    "    # Should return the Amino acid sequence from the Start- to Stop codon.\n",
    "\n",
    "    aminoacids = \"\"\n",
    "\n",
    "    for i in range(start_codon_position, len(rna) - 2, 3):\n",
    "        codon = rna[i:i + 3]\n",
    "        amino = CODON_TO_AMINO[codon]\n",
    "        if amino == 'STOP':  # if it is the stop code, stop everything\n",
    "            aminoacids = aminoacids[:-3]  # removes the \" - \" ending\n",
    "            break\n",
    "        else:  # otherwise add the amino to the sequence\n",
    "            aminoacids += CODON_TO_AMINO[codon] + \" - \"\n",
    "    else:\n",
    "        # if there is no stop codon, stop.\n",
    "        raise Exception(\"There was no stop codon.\")\n",
    "    return aminoacids\n",
    "\n",
    "\n",
    "rna = 'AAGAAGAUGAUGGAAGAACGGCGGUAGGCCGCCUAGAAGAAGAAG'\n",
    "print(convert_rna_to_aminoacids(rna))\n",
    "\n",
    "rna = 'GGGUCGUCGUCGAUGGCCGCCGGUGGUAAGAAGGGAGGACAUCAUUCGUCGUAGGUUGUU'\n",
    "print(convert_rna_to_aminoacids(rna))\n"
   ]
  },
  {
   "cell_type": "code",
   "execution_count": 33,
   "metadata": {},
   "outputs": [
    {
     "name": "stdout",
     "output_type": "stream",
     "text": [
      "Met - Gly - Gly - Lys - Lys\n",
      "Met - Arg - Met - Met - Arg - Arg\n"
     ]
    }
   ],
   "source": [
    "###\n",
    "#\n",
    "# For fun, you can test all of your functions chained together, i.e.\n",
    "# directly Transcribing and Translating your ssDNA sequence to Amino acids.\n",
    "# Or not!\n",
    "#\n",
    "###\n",
    "\n",
    "dna = 'CTTCTTCTACTTCTTTCCTCCCATGGAACAAC'\n",
    "print(convert_rna_to_aminoacids(convert_dna_to_rna(reverse_complement(dna))))\n",
    "\n",
    "dna = 'TCAACGACGCATCATACGCATACG'\n",
    "print(convert_rna_to_aminoacids(convert_dna_to_rna(reverse_complement(dna))))\n"
   ]
  },
  {
   "cell_type": "markdown",
   "metadata": {
    "collapsed": true
   },
   "source": [
    "## Question 3 ##"
   ]
  },
  {
   "cell_type": "markdown",
   "metadata": {},
   "source": [
    "### In this assignment, you will encode the bytes of a picture of a DNA helix (dna.png) into a DNA sequence (touching on the subject of DNA storage). In the Notebook, we provide code that transforms the image into a long bit string. If coding in another language, you need to read the bit string from the text file dna_bits.txt. ###"
   ]
  },
  {
   "cell_type": "code",
   "execution_count": 35,
   "metadata": {},
   "outputs": [],
   "source": [
    "import pandas as pd\n",
    "import scipy as sp\n",
    "import numpy as np\n",
    "import scipy.misc\n",
    "import matplotlib.pyplot as plt"
   ]
  },
  {
   "cell_type": "markdown",
   "metadata": {},
   "source": [
    "##### a. **(2 points)** Assume the following encoding scheme from bits to nucleotides: 00 -> A, 01 -> C, 10 -> G, 11 -> T, i.e. you are able to store 1 byte using 4 nucleotides. Also assume that DNA is approximately shaped like a tube (with a 2nm diameter and 0.34nm distance between nucleotides). If you want to store your massive photo library of 1 Gigabyte in DNA, what would be the approximate Data Density ($GB/mm^{3}$)? Compare that number with the data density of Magnetic Tape ($100 GB/mm^{3}$). Which storage device is more space efficient? #####"
   ]
  },
  {
   "cell_type": "markdown",
   "metadata": {},
   "source": [
    "(your response to 3a goes here: show your work!)"
   ]
  },
  {
   "cell_type": "markdown",
   "metadata": {},
   "source": [
    "##### b. **(1 point)**  Now head to the pricing page of CustomerArray (http://www.customarrayinc.com/oligos_main.htm). Assume you can use all the nucleotides of an oligo to encode your data (there is no loss/overhead). How much would it cost to synthesize your 1 Gigabyte photolibrary as DNA? Compare that number with the cost of a 1GB USB (~$5)#####"
   ]
  },
  {
   "cell_type": "markdown",
   "metadata": {},
   "source": [
    "(your response to 3b goes here)"
   ]
  },
  {
   "cell_type": "markdown",
   "metadata": {},
   "source": [
    "##### c. **(3 points)** Implement a function that encodes the bit string into the corresponding DNA sequence. Use the encoding: 00 -> A, 01 -> C, 10 -> G, 11 -> T. Also implement a function that takes your DNA sequence and outputs a vector of 4-mer counts. I.e. for every possible (potentially overlapping) 4-mer (“AAAA” to “TTTT”), count the occurrences and store all counts in a vector. What is the count of 4-mer AGAG? #####"
   ]
  },
  {
   "cell_type": "code",
   "execution_count": 36,
   "metadata": {},
   "outputs": [
    {
     "ename": "AttributeError",
     "evalue": "module 'scipy.misc' has no attribute 'imread'",
     "output_type": "error",
     "traceback": [
      "\u001b[1;31m---------------------------------------------------------------------------\u001b[0m",
      "\u001b[1;31mAttributeError\u001b[0m                            Traceback (most recent call last)",
      "\u001b[1;32mC:\\Users\\Public\\Documents\\Wondershare\\CreatorTemp/ipykernel_7352/631378009.py\u001b[0m in \u001b[0;36m<module>\u001b[1;34m\u001b[0m\n\u001b[0;32m      1\u001b[0m \u001b[1;31m#Read input image as 2D black- and white matrix\u001b[0m\u001b[1;33m\u001b[0m\u001b[1;33m\u001b[0m\u001b[0m\n\u001b[1;32m----> 2\u001b[1;33m \u001b[0minput_image\u001b[0m \u001b[1;33m=\u001b[0m \u001b[0mscipy\u001b[0m\u001b[1;33m.\u001b[0m\u001b[0mmisc\u001b[0m\u001b[1;33m.\u001b[0m\u001b[0mimread\u001b[0m\u001b[1;33m(\u001b[0m\u001b[1;34m'dna.png'\u001b[0m\u001b[1;33m,\u001b[0m \u001b[0mflatten\u001b[0m\u001b[1;33m=\u001b[0m\u001b[1;32mFalse\u001b[0m\u001b[1;33m,\u001b[0m \u001b[0mmode\u001b[0m\u001b[1;33m=\u001b[0m\u001b[1;34m'L'\u001b[0m\u001b[1;33m)\u001b[0m\u001b[1;33m\u001b[0m\u001b[1;33m\u001b[0m\u001b[0m\n\u001b[0m\u001b[0;32m      3\u001b[0m \u001b[1;33m\u001b[0m\u001b[0m\n\u001b[0;32m      4\u001b[0m \u001b[1;31m#Flatten 2D image into 1D byte vector\u001b[0m\u001b[1;33m\u001b[0m\u001b[1;33m\u001b[0m\u001b[0m\n\u001b[0;32m      5\u001b[0m \u001b[0minput_bytes\u001b[0m \u001b[1;33m=\u001b[0m \u001b[0mnp\u001b[0m\u001b[1;33m.\u001b[0m\u001b[0mravel\u001b[0m\u001b[1;33m(\u001b[0m\u001b[0minput_image\u001b[0m\u001b[1;33m)\u001b[0m\u001b[1;33m\u001b[0m\u001b[1;33m\u001b[0m\u001b[0m\n",
      "\u001b[1;31mAttributeError\u001b[0m: module 'scipy.misc' has no attribute 'imread'"
     ]
    }
   ],
   "source": [
    "#Read input image as 2D black- and white matrix\n",
    "input_image = scipy.misc.imread('dna.png', flatten=False, mode='L')\n",
    "\n",
    "#Flatten 2D image into 1D byte vector\n",
    "input_bytes = np.ravel(input_image)\n",
    "\n",
    "input_bits = ''\n",
    "#Transform 1D byte vector to bit string\n",
    "for i in range(0, len(input_bytes)) :\n",
    "    input_byte = bin(int(input_bytes[i])).lstrip('0b')\n",
    "    input_byte = ('0' * (8 - len(input_byte))) + input_byte\n",
    "    \n",
    "    input_bits += str(input_byte)\n",
    "\n",
    "print('Number of bits: ' + str(len(input_bits)))\n",
    "\n",
    "#If this cell gives an error saying you don't have imread, run Cell immediately below"
   ]
  },
  {
   "cell_type": "code",
   "execution_count": 37,
   "metadata": {},
   "outputs": [
    {
     "ename": "FileNotFoundError",
     "evalue": "[Errno 2] No such file or directory: 'dna_bits.txt'",
     "output_type": "error",
     "traceback": [
      "\u001b[1;31m---------------------------------------------------------------------------\u001b[0m",
      "\u001b[1;31mFileNotFoundError\u001b[0m                         Traceback (most recent call last)",
      "\u001b[1;32mC:\\Users\\Public\\Documents\\Wondershare\\CreatorTemp/ipykernel_7352/2520875218.py\u001b[0m in \u001b[0;36m<module>\u001b[1;34m\u001b[0m\n\u001b[0;32m      1\u001b[0m \u001b[1;31m#Only run this if Cell 2 of Q3 gave an error saying you don't have imread!\u001b[0m\u001b[1;33m\u001b[0m\u001b[1;33m\u001b[0m\u001b[0m\n\u001b[1;32m----> 2\u001b[1;33m \u001b[0mf\u001b[0m \u001b[1;33m=\u001b[0m \u001b[0mopen\u001b[0m\u001b[1;33m(\u001b[0m\u001b[1;34m'dna_bits.txt'\u001b[0m\u001b[1;33m,\u001b[0m \u001b[1;34m'r'\u001b[0m\u001b[1;33m)\u001b[0m\u001b[1;33m\u001b[0m\u001b[1;33m\u001b[0m\u001b[0m\n\u001b[0m\u001b[0;32m      3\u001b[0m \u001b[0minput_bits\u001b[0m \u001b[1;33m=\u001b[0m \u001b[0mf\u001b[0m\u001b[1;33m.\u001b[0m\u001b[0mreadline\u001b[0m\u001b[1;33m(\u001b[0m\u001b[1;33m)\u001b[0m\u001b[1;33m[\u001b[0m\u001b[1;33m:\u001b[0m\u001b[1;33m-\u001b[0m\u001b[1;36m1\u001b[0m\u001b[1;33m]\u001b[0m\u001b[1;33m\u001b[0m\u001b[1;33m\u001b[0m\u001b[0m\n\u001b[0;32m      4\u001b[0m \u001b[0mf\u001b[0m\u001b[1;33m.\u001b[0m\u001b[0mclose\u001b[0m\u001b[1;33m(\u001b[0m\u001b[1;33m)\u001b[0m\u001b[1;33m\u001b[0m\u001b[1;33m\u001b[0m\u001b[0m\n\u001b[0;32m      5\u001b[0m \u001b[1;33m\u001b[0m\u001b[0m\n",
      "\u001b[1;31mFileNotFoundError\u001b[0m: [Errno 2] No such file or directory: 'dna_bits.txt'"
     ]
    }
   ],
   "source": [
    "#Only run this if Cell 2 of Q3 gave an error saying you don't have imread!\n",
    "f = open('dna_bits.txt', 'r')\n",
    "input_bits = f.readline()[:-1]\n",
    "f.close()\n",
    "\n",
    "print('Number of bits: ' + str(len(input_bits)))"
   ]
  },
  {
   "cell_type": "code",
   "execution_count": null,
   "metadata": {},
   "outputs": [],
   "source": [
    "###\n",
    "#\n",
    "# Problem 3.c\n",
    "# Implement the function encode_bits_as_dna.\n",
    "# The function should take as input the string of bits you want to encode as dna.\n",
    "# The output should be a dna sequence encoding of the input bit string.\n",
    "#\n",
    "# Encode the bits as follows:\n",
    "# 00 -> A\n",
    "# 01 -> C\n",
    "# 10 -> G\n",
    "# 11 -> T\n",
    "#\n",
    "###\n",
    "def encode_bits_as_dna(bits):\n",
    "    if (len(bits) % 2 == 1):\n",
    "        raise Exception(\"Odd number of bits. Not encodable with current system.\")\n",
    "    dna = \"\"\n",
    "    for i in range(0, len(bits), 2):\n",
    "        crumb = bits[i:i+2]\n",
    "        dna += CRUMB_TO_BASE[crumb]\n",
    "    return dna\n",
    "\n",
    "dna = encode_bits_as_dna(input_bits)\n",
    "\n",
    "print('Number of dna bases encoded: ' + str(len(dna)))\n",
    "print('Position of first TG: ' + str(dna.find('TG')))\n",
    "print('Position of first GGG: ' + str(dna.find('GGG')))\n",
    "\n",
    "\n",
    "\n",
    "\n",
    "\n",
    "\n",
    "###\n",
    "#\n",
    "# Also Problem 3.c\n",
    "# Implement the function get_4mer_counts.\n",
    "# The function should take as input the dna sequence.\n",
    "# The output should be a numpy vector (1D array)\n",
    "# which holds the occurrence count of each 4-mer in the dna input.\n",
    "#\n",
    "# I.e.\n",
    "# Output vector = (count of AAAA, count of AAAC, count of AAAG, count of AAAT, ..., count of TTTT)\n",
    "#\n",
    "###\n",
    "def get_4mer_counts(dna) :\n",
    "    return np.zeros(4 * 4 * 4 * 4)\n",
    "\n",
    "mer4_counts = get_4mer_counts(dna)\n",
    "\n",
    "print('Minimum 4-mer count: ' + str(np.min(mer4_counts)))\n",
    "print('Maximum 4-mer count: ' + str(np.max(mer4_counts)))\n",
    "\n",
    "#What is the count of 4-mer AGAG? Write some code to query your vector for that number.\n",
    "\n",
    "\n",
    "###\n",
    "#\n",
    "# Problem 3.d\n",
    "# Write code using the graph package matplotlib to plot a curve\n",
    "# of the above 4-mer distribution (the 4-mers on the x-axis and the corresponding 4-mer counts on the y-axis).\n",
    "#\n",
    "###\n",
    "\n",
    "\n",
    "\n"
   ]
  },
  {
   "cell_type": "markdown",
   "metadata": {},
   "source": [
    "##### d. **(2 points)** Plot your 4-mer distribution (curve with distinct n-mers on x-axis, count on y-axis). Why is the curve peaking enormously for one of the 4-mers? Now re-plot your distribution, but only plot the y-axis in the range [0, 600]. #####\n",
    "\n",
    "##### In reality, the encoding implemented would not work well for usage in DNA storage. One of the major problems comes from having many homopolymers (repeated nucleotides), which is particularly error-prone in both synthesis & sequencing. We have provided a file (“dna_rotating_encoded.txt”) which contains the same data, but encoded with a rotating scheme so that nucleotides are not repeated. Plot the 4-mer distribution of this DNA encoding (only plot the y-axis in the range [0, 2000]) and compare it against your encoding distribution. What is the major difference between the curves? #####"
   ]
  },
  {
   "cell_type": "code",
   "execution_count": null,
   "metadata": {},
   "outputs": [],
   "source": [
    "#\n",
    "# Here we are reading a textfile that contains a more high-tech DNA encoding of the same bit stream.\n",
    "#\n",
    "f = open('dna_rotating_encoded.txt', 'r')\n",
    "dna = f.readline()[:-1]\n",
    "f.close()\n",
    "\n",
    "print('Number of dna bases encoded: ' + str(len(dna)))\n",
    "\n",
    "mer4_counts = get_4mer_counts(dna)\n",
    "\n",
    "\n",
    "###\n",
    "#\n",
    "# Also Problem 3.d\n",
    "# Write code using the graph package matplotlib to plot a curve\n",
    "# of the above 4-mer distribution (the 4-mers on the x-axis and the corresponding 4-mer counts on the y-axis).\n",
    "#\n",
    "###\n",
    "\n",
    "\n",
    "\n"
   ]
  }
 ],
 "metadata": {
  "kernelspec": {
   "display_name": "Python 3 (ipykernel)",
   "language": "python",
   "name": "python3"
  },
  "language_info": {
   "codemirror_mode": {
    "name": "ipython",
    "version": 3
   },
   "file_extension": ".py",
   "mimetype": "text/x-python",
   "name": "python",
   "nbconvert_exporter": "python",
   "pygments_lexer": "ipython3",
   "version": "3.9.7"
  },
  "vscode": {
   "interpreter": {
    "hash": "f43fd126eed755861b659d0a5657750b9949fa700013cfbc2049902c847cb29b"
   }
  }
 },
 "nbformat": 4,
 "nbformat_minor": 1
}
