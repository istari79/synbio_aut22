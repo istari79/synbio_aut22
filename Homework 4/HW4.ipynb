{
 "cells": [
  {
   "cell_type": "markdown",
   "metadata": {},
   "source": [
    "# Problem 2"
   ]
  },
  {
   "cell_type": "code",
   "execution_count": null,
   "metadata": {},
   "outputs": [],
   "source": [
    "import numpy as np\n",
    "import matplotlib.pyplot as plt"
   ]
  },
  {
   "cell_type": "markdown",
   "metadata": {},
   "source": [
    "The function below defines the hill-curve of a 2-repressor NOR gate, using dimensionless versions of all species to simplify interpretation. It accepts 2 inputs, r1 and r2, which are the concentrations of 2 different repressors; as well as the inputs n1 and n2, the Hill coefficients for each repressor (which default to 20, a biologically implausible value, exaggerated to illustrate the logic gate behavior more clearly). The output of the function is the concentration of the protein whose expression is regulated by repressors r1 and r2. Note you do not need to modify the code below, it is provided to you as you have already derived this equation in class."
   ]
  },
  {
   "cell_type": "code",
   "execution_count": null,
   "metadata": {},
   "outputs": [],
   "source": [
    "### DO NOT MODIFY THIS CELL ###\n",
    "\n",
    "def nor_gate(r1, r2, n1=20, n2=20,g_max=1):\n",
    "    return 1/(1+r1**n1)/(1+r2**n2)*g_max"
   ]
  },
  {
   "cell_type": "markdown",
   "metadata": {},
   "source": [
    "Visualize the truth table of this NOR-gate by running the cell below."
   ]
  },
  {
   "cell_type": "code",
   "execution_count": null,
   "metadata": {},
   "outputs": [],
   "source": [
    "### YOU MAY MODIFY THIS CELL BUT WILL NOT BE GRADED ###\n",
    "\n",
    "# Note: here we're treating this gate as digital by defining a concentration threshold\n",
    "# for what constitutes a 1 or 0, ON or OFF, HIGH or LOW, etc. Feel free to change these \n",
    "# threshold values to see how they affect the output of the gate. Also feel free to play \n",
    "# with the value of n1 and n2 to see how they affect the digital behavior of the gate.\n",
    "\n",
    "OFF_CONCENTRATION = 0.1\n",
    "ON_CONCENTRATION = 10\n",
    "\n",
    "n = 2\n",
    "\n",
    "# generate truth table\n",
    "print(f'R1     | R2     | OUT  ')\n",
    "print(f'-----------------------')\n",
    "for r1 in [OFF_CONCENTRATION, ON_CONCENTRATION]:\n",
    "    for r2 in [OFF_CONCENTRATION, ON_CONCENTRATION]:\n",
    "        print(f'{r1:<5.2f}  | {r2:<5.2f}  | {nor_gate(r1, r2,n1=n,n2=n,g_max=ON_CONCENTRATION):.2f}')"
   ]
  },
  {
   "cell_type": "markdown",
   "metadata": {},
   "source": [
    "Run the cell below to visualize the output of the nor gate for varying concentrations of the 2 input repressors. Try modifying the value of n to see how the contour changes with increased sensitivity to repressor binding (not graded)."
   ]
  },
  {
   "cell_type": "code",
   "execution_count": null,
   "metadata": {},
   "outputs": [],
   "source": [
    "### YOU MAY MODIFY THIS CELL BUT WILL NOT BE GRADED ###\n",
    "\n",
    "n = 2\n",
    "\n",
    "# plot nor gate output in 3d\n",
    "from mpl_toolkits.mplot3d import Axes3D\n",
    "fig = plt.figure()\n",
    "ax = fig.add_subplot(111, projection='3d')\n",
    "x = np.logspace(-1, 1, 100)\n",
    "X, Y = np.meshgrid(x, x)\n",
    "Z = nor_gate(X, Y, n, n)\n",
    "# plot surface as wireframe\n",
    "ax.plot_surface(np.log(X), np.log(Y), Z, cmap='viridis')\n",
    "# label x and y axes\n",
    "ax.set_xlabel('log([R1])')\n",
    "ax.set_ylabel('log([R2])')\n",
    "# label z axis\n",
    "ax.set_zlabel('[OUT]')\n",
    "# set title\n",
    "ax.set_title(f'NOR Gate Output (n={n})')\n",
    "plt.show()"
   ]
  },
  {
   "cell_type": "markdown",
   "metadata": {},
   "source": [
    "## 2.1\n",
    "\n",
    "Now it's finally time to write your own code. Implement XOR logic using only NOR-gate building blocks. You should be able to achieve this with 5 NOR gates. See the HW PDF for more details/guidance."
   ]
  },
  {
   "cell_type": "code",
   "execution_count": null,
   "metadata": {},
   "outputs": [],
   "source": [
    "### MODIFY THIS CELL ###\n",
    "\n",
    "# C = A'B + AB' (XOR logic definition where ' indicates inverted signal)\n",
    "def xor_gate(a,b,n):\n",
    "\n",
    "    # YOUR CODE HERE\n",
    "\n",
    "    return # output of xor gate"
   ]
  },
  {
   "cell_type": "markdown",
   "metadata": {},
   "source": [
    "Visualize the output of your XOR gate for n=2,4,20. Recall that the higher the value of n, the more digital the behavior of the logic gate (although super high values of n are probably not realistically achievable with biological components). You don't have to add any code to the following cell, only run it; if there is an error the error will be in your xor_gate function (we will be sad if anyone suggests there's a mistake in the plotting code). Do make sure you actually run this cell before submitting (we will not grade this problem otherwise)!!!"
   ]
  },
  {
   "cell_type": "code",
   "execution_count": null,
   "metadata": {},
   "outputs": [],
   "source": [
    "### DO NOT MODIFY THIS CELL ###\n",
    "\n",
    "# meshgrid for plotting\n",
    "x = np.logspace(-2, 2, 100)\n",
    "x, y = np.meshgrid(x, x)\n",
    "\n",
    "# Create 3 subplots for 3 values of n: 2, 4, and 20\n",
    "fig, ax = plt.subplots(1, 3, figsize=(12, 4))\n",
    "for i, n in enumerate([2, 4, 20]):\n",
    "    ax[i].contourf(x, y, xor_gate(x, y, n), 20, cmap='viridis')\n",
    "    ax[i].set_title('n = %d' % n)\n",
    "    ax[i].set_xscale('log')\n",
    "    ax[i].set_yscale('log')\n",
    "\n",
    "### The following code is just to make the plots look nicer ###\n",
    "\n",
    "# set title for overall figure\n",
    "fig.suptitle('XOR gate from 2-repressor NOR gates\\n',fontsize=16)\n",
    "# add empty line between suptitle and subplot titles for spacing/presentation\n",
    "fig.subplots_adjust(top=0.85)\n",
    "# remove yticks from 2nd and 3rd subplots\n",
    "ax[1].set_yticks([])\n",
    "ax[2].set_yticks([])\n",
    "# set ylabel for overall figure to [B]\n",
    "fig.text(0.06, 0.5, '[B]', va='center', rotation='horizontal',fontsize=16)\n",
    "# set xlabel for overall figure to [A]\n",
    "fig.text(0.5, 0.01, '[A]', ha='center', va='center',fontsize=16)\n",
    "# add colorbar to right of the figure\n",
    "cbar_ax = fig.add_axes([0.92, 0.15, 0.02, 0.7])\n",
    "fig.colorbar(ax[0].contourf(x, y, xor_gate(x, y, 2), 20, cmap='viridis'), cax=cbar_ax)\n",
    "# add colorbar label\n",
    "cbar_ax.set_ylabel('[C]', rotation=0, labelpad=15, fontsize=16)\n",
    "\n",
    "plt.show()"
   ]
  },
  {
   "cell_type": "markdown",
   "metadata": {},
   "source": [
    "## 2.2\n",
    "\n",
    "This looks nice in simulation, but in reality there are many practical challenges for creating a logic gate like this XOR-gate from compounded 2-repressor NOR-gates. **List and explain 2 reasons why a cascaded 5-gate system like this XOR-gate might not behave the same way in real life as in simulation.**"
   ]
  },
  {
   "cell_type": "markdown",
   "metadata": {},
   "source": []
  },
  {
   "cell_type": "markdown",
   "metadata": {},
   "source": [
    "## 2.3 **(Grad Students Only)**\n",
    "\n",
    "Notice that for both the n=2 and n=4 graphs, the bottom left quadrant is lighter colored than the upper right quadrant, indicating higher output concentration. However, both these quadrants correspond to \"OFF\" states of the XOR-gate. **In a few sentences explain why the lower left quadrant has a less digital \"OFF\" state than the upper right quadrant for lower values of n, including why this behavior is not observed in the n=20 graph.**"
   ]
  },
  {
   "cell_type": "markdown",
   "metadata": {},
   "source": [
    "# Problem 3"
   ]
  },
  {
   "cell_type": "markdown",
   "metadata": {},
   "source": [
    "In class you learned that the model for a bistable switch is given by the following equations :"
   ]
  },
  {
   "cell_type": "markdown",
   "metadata": {},
   "source": [
    "\\begin{align}\n",
    "\\dot{x} &= \\frac{\\alpha}{1+y^n} - x\\\\[1em]\n",
    "\\dot{y} &= \\frac{\\alpha}{1+x^n} - y,\n",
    "\\end{align}"
   ]
  },
  {
   "cell_type": "markdown",
   "metadata": {},
   "source": [
    "Create the phase diagram for this system, i.e. generate a vector field showing the direction of\n",
    "change of x and y. Also visualize the nullclines and equilibrium points on the same plot.\n",
    "Which equilibrium points are stable, and which are unstable? \n",
    "\n",
    "You may use any tools at your\n",
    "disposal for plotting the phase diagram (Python, Mathematica, Matlab etc.). We have provided partially completed Python code. Feel free to use or change anything in your implementation. Places where you will need to fill in code are marked as \"TODO\". \n",
    "\n",
    "Provide plots for n=1, n=2, and n=5. Use a=6."
   ]
  },
  {
   "cell_type": "code",
   "execution_count": 2,
   "metadata": {},
   "outputs": [],
   "source": [
    "import numpy as np\n",
    "import scipy.integrate\n",
    "import scipy.optimize\n",
    "import matplotlib.pyplot as plt\n",
    "import matplotlib.gridspec as gridspec"
   ]
  },
  {
   "cell_type": "code",
   "execution_count": null,
   "metadata": {},
   "outputs": [],
   "source": [
    "### MODIFY THIS CELL ###\n",
    "\n",
    "# TODO: this fuction should return the equations for a bistable switch\n",
    "# function arguments: \n",
    "# xy: tuple with equation variables x and y\n",
    "# t: numpy array of evenly spaced time values\n",
    "# a, n: function arguments that you will be changing \n",
    "# return type: numpy array\n",
    "\n",
    "def bistable_switch(xy, a, n):\n",
    "    "
   ]
  },
  {
   "cell_type": "code",
   "execution_count": null,
   "metadata": {},
   "outputs": [],
   "source": [
    "### MODIFY THIS CELL ###\n",
    "\n",
    "#Plots the flow field\n",
    "    \n",
    "# Parameters:\n",
    "# f : function for form f(y, *args). Must return a 2-array.\n",
    "# x_range : array_like, shape (2,). Range of values for x-axis.\n",
    "# y_range : array_like, shape (2,). Range of values for y-axis.\n",
    "# args : tuple, default ()\n",
    "# Additional arguments to be passed to f:\n",
    "# n_grid : int, default 100\n",
    "# Number of grid points to use in computing derivatives on phase portrait.\n",
    "# Returns derivatives and x,y space\n",
    "\n",
    "def get_flow_field(bistable_switch, x_range, y_range, args=(), n_grid=100):\n",
    "\n",
    "    # Set up u,v space\n",
    "    x = np.linspace(x_range[0], x_range[1], n_grid)\n",
    "    y = np.linspace(y_range[0], y_range[1], n_grid)\n",
    "    xx, yy = np.meshgrid(x, y)\n",
    "\n",
    "    # Compute derivatives and update numpy arrays u and v, where u[i,j] = dx[i,j]/dt and v[i,j] = dy[i,j]/dt\n",
    "    u = np.empty_like(xx)\n",
    "    v = np.empty_like(xx)\n",
    "    for i in range(xx.shape[0]):\n",
    "        for j in range(xx.shape[1]):\n",
    "            # You fill in code here!\n",
    "            # TODO: compute derivatives for all values acrosss u,v space \n",
    "            \n",
    "    return u, v, x, y"
   ]
  },
  {
   "cell_type": "code",
   "execution_count": null,
   "metadata": {},
   "outputs": [],
   "source": [
    "### MODIFY THIS CELL ###\n",
    "\n",
    "def get_nullclines(x_range, y_range, a, n):\n",
    "    \n",
    "    # x-nullcline\n",
    "    x_y = np.linspace(y_range[0], y_range[1], 200)\n",
    "    x_x = # TODO: Fill in the equation to compute the x-nullcline over the x_y space given\n",
    "    \n",
    "    # y-nullcline\n",
    "    y_x = np.linspace(x_range[0], x_range[1], 200)\n",
    "    y_y = # TODO: Fill in the equation to compute the y-nullcline over the y_x space given\n",
    "    \n",
    "    return x_x, x_y, y_x, y_y"
   ]
  },
  {
   "cell_type": "code",
   "execution_count": null,
   "metadata": {},
   "outputs": [],
   "source": [
    "### MODIFY THIS CELL ###\n",
    "\n",
    "# Function returns numpy array equations needed to determine fixed points \n",
    "# xy: tuple with equation variables x and y\n",
    "# return type: numpy array \n",
    "\n",
    "# This function is used to find fixed points\n",
    "def get_eq_points(xy):\n",
    "    # TODO: fill in function"
   ]
  },
  {
   "cell_type": "code",
   "execution_count": null,
   "metadata": {},
   "outputs": [],
   "source": [
    "### MODIFY THIS CELL ###\n",
    "\n",
    "# Parameters\n",
    "# TODO: test dynamic system with different assignments of 'a' and 'n'\n",
    "args = (a, n)"
   ]
  },
  {
   "cell_type": "code",
   "execution_count": null,
   "metadata": {},
   "outputs": [],
   "source": [
    "### MODIFY THIS CELL ###\n",
    "\n",
    "# TODO: \n",
    "# Call associated fucntion to get points for flow field and nullclines for plotting"
   ]
  },
  {
   "cell_type": "code",
   "execution_count": null,
   "metadata": {},
   "outputs": [],
   "source": [
    "### MODIFY THIS CELL ###\n",
    "\n",
    "# Find unstable fixed point\n",
    "coeffs = np.zeros(n+2)\n",
    "coeffs[0] = 1\n",
    "coeffs[-2] = 1\n",
    "coeffs[-1] = -a\n",
    "\n",
    "r = np.roots(coeffs)\n",
    "ind = np.where(np.logical_and(np.isreal(r), r.real >= 0))\n",
    "fp1 = np.array([r[ind][0].real]*2)\n",
    "\n",
    "# Find stable fixed points (fp0 and fp2)\n",
    "# HINT: use scipy.optimize with get_eq_points function\n",
    "# fixed points are where derivatives equal zero and nullclines intersect\n",
    "# Good initialization conditions are [0,1]\n",
    "\n",
    "x1,y1 = fp0\n",
    "x2,y2 = fp1\n",
    "x3,y3 = fp2"
   ]
  },
  {
   "cell_type": "code",
   "execution_count": null,
   "metadata": {},
   "outputs": [],
   "source": [
    "### YOU MAY MODIFY THIS CELL BUT WILL NOT BE GRADED ###\n",
    "# Nothing to do here! Plotting code already complete\n",
    "\n",
    "# Configure plotting\n",
    "fig = plt.figure(figsize = (10, 10))\n",
    "ax = fig.add_subplot()\n",
    "ax.set_xlabel(\"x\")\n",
    "ax.set_ylabel(\"y\")\n",
    "\n",
    "# Plot flow field\n",
    "ax.streamplot(x, y, u, v)\n",
    "\n",
    "# Plot nullclines\n",
    "ax.plot(x_x, x_y)\n",
    "ax.plot(y_x, y_y)\n",
    "\n",
    "# Plot fixed points\n",
    "ax.plot(x1, y1, marker=\"o\", markersize=10, markeredgecolor=\"red\", markerfacecolor=\"red\")\n",
    "ax.plot(x2, y2, marker=\"o\", markersize=10, markeredgecolor=\"red\", markerfacecolor=\"red\")\n",
    "ax.plot(x3, y3, marker=\"o\", markersize=10, markeredgecolor=\"red\", markerfacecolor=\"red\")\n",
    " \n",
    "# show plot\n",
    "plt.show()"
   ]
  }
 ],
 "metadata": {
  "kernelspec": {
   "display_name": "Python 3 (ipykernel)",
   "language": "python",
   "name": "python3"
  },
  "language_info": {
   "codemirror_mode": {
    "name": "ipython",
    "version": 3
   },
   "file_extension": ".py",
   "mimetype": "text/x-python",
   "name": "python",
   "nbconvert_exporter": "python",
   "pygments_lexer": "ipython3",
   "version": "3.7.11"
  },
  "vscode": {
   "interpreter": {
    "hash": "f43fd126eed755861b659d0a5657750b9949fa700013cfbc2049902c847cb29b"
   }
  }
 },
 "nbformat": 4,
 "nbformat_minor": 2
}
