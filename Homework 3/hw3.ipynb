{
 "cells": [
  {
   "cell_type": "code",
   "execution_count": 2,
   "metadata": {},
   "outputs": [],
   "source": [
    "import numpy as np\n",
    "import pandas as pd\n",
    "from scipy.optimize import minimize\n",
    "import matplotlib.pyplot as plt"
   ]
  },
  {
   "cell_type": "code",
   "execution_count": 3,
   "metadata": {},
   "outputs": [
    {
     "name": "stdout",
     "output_type": "stream",
     "text": [
      "Dataset:\n",
      "   repressor_conc  fluorescence_1  fluorescence_2  fluorescence_3\n",
      "0       41.152263            1683            1811            2139\n",
      "1       13.717421            1818            1724            1789\n",
      "2        4.572474            1863            1878            1909\n",
      "3        1.524158            2301            2264            2096\n",
      "4        0.508053            2329            2245            2610\n"
     ]
    }
   ],
   "source": [
    "data_file = 'repressor_timeseries.csv'\n",
    "df_data = pd.read_csv(data_file, sep='\\t')\n",
    "\n",
    "print('Dataset:')\n",
    "print(df_data.head())\n",
    "\n",
    "num_experiments = 3\n",
    "\n",
    "#Get a 1D numpy array of x-values (repressor concentrations)\n",
    "x = np.ravel(np.array(list(df_data.repressor_conc)))[::-1]\n",
    "#Get a 2D matrix of measured target y-values (fluorescence). Rows are indepdendent experiments, Columns fluorescence values.\n",
    "targets = np.zeros((num_experiments, len(x)))\n",
    "for i in range(1, 1 + num_experiments) :\n",
    "    target = np.ravel(np.array(list(df_data['fluorescence_' + str(i)])))[::-1]\n",
    "    targets[i-1, :] = target"
   ]
  },
  {
   "cell_type": "code",
   "execution_count": 6,
   "metadata": {},
   "outputs": [
    {
     "name": "stdout",
     "output_type": "stream",
     "text": [
      "[[20962. 20877. 20624. 16697.  7718.  7059.  3686.  2936.  3330.  2329.\n",
      "   2301.  1863.  1818.  1683.]\n",
      " [21047. 20292. 19405. 15775.  8933.  6300.  3539.  2796.  3133.  2245.\n",
      "   2264.  1878.  1724.  1811.]\n",
      " [22735. 21919. 21047. 15395.  7321.  5952.  3343.  2865.  2774.  2610.\n",
      "   2096.  1909.  1789.  2139.]]\n"
     ]
    }
   ],
   "source": [
    "print(targets)\n",
    "\n",
    "\n",
    "# fig, ax = plt.subplots(1)\n",
    "# ax.semilogx()"
   ]
  },
  {
   "cell_type": "code",
   "execution_count": null,
   "metadata": {},
   "outputs": [],
   "source": [
    "###\n",
    "#\n",
    "# Problem 2.a: Compute the mean and standard deviation of the measured values (mean fluorescence and deviation between the experiments,\n",
    "# for each data point), and plot them. Where in the hill-curve, according to the data, do you see most variation?\n",
    "#\n",
    "###\n"
   ]
  },
  {
   "cell_type": "code",
   "execution_count": null,
   "metadata": {},
   "outputs": [],
   "source": [
    "###\n",
    "#\n",
    "# Problem 2.b: Implement the function hill_curve,\n",
    "# which computes the hill-curve values of the input repressor values x (numpy array).\n",
    "#\n",
    "###\n",
    "def hill_curve(F_max, n, K, F_0, x) :\n",
    "    \"\"\"Hill Curve function\n",
    "\n",
    "    Args:\n",
    "        F_max (float): maximum expression level\n",
    "        n (int): Hill coefficient\n",
    "        K (float): dissociation constant\n",
    "        F_0 (float): leaky expression\n",
    "        x (float): repressor concentration\n",
    "\n",
    "    Returns:\n",
    "        float: current expression level\n",
    "    \"\"\"\n",
    "\n",
    "    # return vector of expression levels for each repressor concentration\n",
    "    F_x = np.zeros(len(x))\n",
    "\n",
    "    return F_x\n",
    "\n",
    "###\n",
    "#\n",
    "# Problem 2.b: Implement the function objective_function.\n",
    "# It should return the Sum-of-squared Error between target (i.e. measured) and predicted fluorescence.\n",
    "# Note that in the documentation for scipy.optimize.minimize, the objective function is called \"fun\",\n",
    "# and takes (x, *args) as arguments. The x of fun(x,*args) is equivalent to \"coeff_vec\", and is a 1-D array \n",
    "# containing the parameters of the function to fit: F_max, n, K, F_0 for the hill_curve function.\n",
    "# \n",
    "# The *args of fun(x,*args) is a tuple of arguments. In this case, the first element of args will be the \n",
    "# input repressor values (\"x\"), and the second element will be the target fluorescence values (\"F_x\").\n",
    "# The predicted fluorescence values should be computed by calling the hill_curve function you defined above.\n",
    "#\n",
    "#\n",
    "###\n",
    "def objective_function(coeff_vec, args) :\n",
    "    \n",
    "    x, F_x = args\n",
    "    \n",
    "    F_max = coeff_vec[0]\n",
    "    n = coeff_vec[1]\n",
    "    K = coeff_vec[2]\n",
    "    F_0 = coeff_vec[3]\n",
    "\n",
    "    return 0\n",
    "\n",
    "###\n",
    "# This defines the constraints that must be satisfied by the numerical optimizer:\n",
    "#\n",
    "# F_max >= 0\n",
    "# 0 <= n <= 5\n",
    "# K >= 0\n",
    "# F_0 >= 0\n",
    "#\n",
    "###\n",
    "cons = (\n",
    "    #F_max >= 0\n",
    "    {'type': 'ineq',\n",
    "    'fun' : lambda x: np.array([x[0]]),\n",
    "    'jac' : lambda x: np.array([1, 0, 0, 0])},\n",
    "    #n >= 0\n",
    "    {'type': 'ineq',\n",
    "    'fun' : lambda x: np.array([x[1]]),\n",
    "    'jac' : lambda x: np.array([0, 1, 0, 0])},\n",
    "    #n <= 5\n",
    "    {'type': 'ineq',\n",
    "    'fun' : lambda x: np.array([5 - x[1]]),\n",
    "    'jac' : lambda x: np.array([0, -1, 0, 0])},\n",
    "    #K >= 0\n",
    "    {'type': 'ineq',\n",
    "    'fun' : lambda x: np.array([x[2]]),\n",
    "    'jac' : lambda x: np.array([0, 0, 1, 0])},\n",
    "    #F_0 >= 0\n",
    "    {'type': 'ineq',\n",
    "    'fun' : lambda x: np.array([x[3]]),\n",
    "    'jac' : lambda x: np.array([0, 0, 0, 1])}\n",
    ")\n",
    "\n",
    "\n",
    "###\n",
    "#\n",
    "# Problem 2.b: Write code using the scipy function scipy.optimize.minimize\n",
    "# to fit a hill-curve model (consisting of the 4 parameters above) to the experimental data.\n",
    "# The input values are the repressor concentration values \"x\".\n",
    "# The target (measured) values are the mean fluorescence values \"F_x\".\n",
    "# Finally plot the fitted hill-curve in the range (0, 100]. Overlay the experimental means.\n",
    "#\n",
    "# Tip: The hill-curve is a highly non-linear function of the free parameters we want to fit.\n",
    "# In such cases, the optimization is not guaranteed to be convex and you could end up in a bad local minima.\n",
    "# Therefore it's good practice to randomly initialize the parameters.\n",
    "# For example, randomly initializing n in range [0, 5] and the other parameters in range [0, 10^5].\n",
    "#\n",
    "###\n",
    "\n",
    "\n",
    "\n",
    "\n",
    "\n"
   ]
  },
  {
   "cell_type": "code",
   "execution_count": null,
   "metadata": {
    "collapsed": true
   },
   "outputs": [],
   "source": []
  }
 ],
 "metadata": {
  "kernelspec": {
   "display_name": "Python 3 (ipykernel)",
   "language": "python",
   "name": "python3"
  },
  "language_info": {
   "codemirror_mode": {
    "name": "ipython",
    "version": 3
   },
   "file_extension": ".py",
   "mimetype": "text/x-python",
   "name": "python",
   "nbconvert_exporter": "python",
   "pygments_lexer": "ipython3",
   "version": "3.9.13"
  },
  "vscode": {
   "interpreter": {
    "hash": "f43fd126eed755861b659d0a5657750b9949fa700013cfbc2049902c847cb29b"
   }
  }
 },
 "nbformat": 4,
 "nbformat_minor": 1
}
