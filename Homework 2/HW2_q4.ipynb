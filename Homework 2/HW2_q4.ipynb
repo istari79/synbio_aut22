{
 "cells": [
  {
   "cell_type": "code",
   "execution_count": null,
   "metadata": {
    "collapsed": true
   },
   "outputs": [],
   "source": [
    "import numpy as np\n",
    "import scipy as sp\n",
    "import matplotlib.pyplot as plt\n",
    "from scipy.integrate import odeint"
   ]
  },
  {
   "cell_type": "code",
   "execution_count": null,
   "metadata": {
    "collapsed": true
   },
   "outputs": [],
   "source": [
    "#####\n",
    "#\n",
    "# TODO: Implement a function that returns the first order derivatives of c \n",
    "# (the concentration vector (c_a(t), c_b(t), c_c(t))).\n",
    "# The function takes as input the concentration vector c,\n",
    "# the time vector t and rate constants k1, k2 and k3.\n",
    "#\n",
    "#####\n",
    "def get_ode_derivatives(c, t, k1, k2, k3):\n",
    "    c_a, c_b, c_c = c\n",
    "    \n",
    "    dcdt = [\n",
    "        0, 0, 0\n",
    "    ]\n",
    "    \n",
    "    return dcdt\n"
   ]
  },
  {
   "cell_type": "code",
   "execution_count": null,
   "metadata": {
    "collapsed": false
   },
   "outputs": [],
   "source": [
    "\n",
    "k1 = 1\n",
    "k2 = 1\n",
    "k3 = 1\n",
    "\n",
    "t0 = 0\n",
    "tn = 10\n",
    "tsteps = 1001\n",
    "\n",
    "\n",
    "\n",
    "c0_a = 0.2\n",
    "c0_b = 0.3\n",
    "c0_c = 0.5\n",
    "\n",
    "print('Solving ODE for')\n",
    "print('c0_a = ' + str(c0_a))\n",
    "print('c0_b = ' + str(c0_b))\n",
    "print('c0_c = ' + str(c0_c))\n",
    "\n",
    "#TODO: Write code that numerically solves the ODE using scipy.integrate.odeint.\n",
    "#      odeint expects your derivative-function implemented in the cell above as input,\n",
    "#      along with the initial condititions, rate constants, and a vector of time.\n",
    "#      For a brief tutorial, look at:\n",
    "#      https://docs.scipy.org/doc/scipy/reference/generated/scipy.integrate.odeint.html#scipy.integrate.odeint\n",
    "#TODO: Write code that plots the solution curves of the ODE.\n",
    "#      Use the matplotlib.pyplot library for this.\n",
    "\n",
    "\n",
    "c0_a = 0.05\n",
    "c0_b = 0.90\n",
    "c0_c = 0.05\n",
    "\n",
    "print('Solving ODE for')\n",
    "print('c0_a = ' + str(c0_a))\n",
    "print('c0_b = ' + str(c0_b))\n",
    "print('c0_c = ' + str(c0_c))\n",
    "\n",
    "#TODO: Write code that numerically solves the ODE using scipy.integrate.odeint.\n",
    "#      odeint expects your derivative-function implemented in the cell above as input,\n",
    "#      along with the initial condititions, rate constants, and a vector of time.\n",
    "#      For a brief tutorial, look at:\n",
    "#      https://docs.scipy.org/doc/scipy/reference/generated/scipy.integrate.odeint.html#scipy.integrate.odeint\n",
    "#TODO: Write code that plots the solution curves of the ODE.\n",
    "#      Use the matplotlib.pyplot library for this.\n"
   ]
  },
  {
   "cell_type": "code",
   "execution_count": null,
   "metadata": {
    "collapsed": true
   },
   "outputs": [],
   "source": []
  }
 ],
 "metadata": {
  "kernelspec": {
   "display_name": "Python 3",
   "language": "python",
   "name": "python3"
  },
  "language_info": {
   "codemirror_mode": {
    "name": "ipython",
    "version": 3
   },
   "file_extension": ".py",
   "mimetype": "text/x-python",
   "name": "python",
   "nbconvert_exporter": "python",
   "pygments_lexer": "ipython3",
   "version": "3.4.3"
  }
 },
 "nbformat": 4,
 "nbformat_minor": 1
}
