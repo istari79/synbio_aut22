{
 "cells": [
  {
   "cell_type": "code",
   "execution_count": null,
   "metadata": {},
   "outputs": [],
   "source": [
    "\n",
    "import pandas as pd\n",
    "import numpy as np\n",
    "import matplotlib\n",
    "import matplotlib.pyplot as plt\n",
    "import seaborn as sns \n",
    "\n",
    "%matplotlib inline"
   ]
  },
  {
   "cell_type": "markdown",
   "metadata": {},
   "source": [
    "## 1. Examining upstream 5'UTR Elements and MRL"
   ]
  },
  {
   "cell_type": "code",
   "execution_count": null,
   "metadata": {},
   "outputs": [],
   "source": [
    "################### Provided functions, you will not need to edit these ##################################3\n",
    "\n",
    "def openDataset():\n",
    "    #function for opening dataset after download \n",
    "    return pd.read_csv(\"mrl_dataset.csv\")\n",
    "\n",
    "def countCodonsInAllUTRs(df):\n",
    "    #For each utr, count the number of atgs, ctgs, gtgs, and stops in each utr sequence\n",
    "    #INPUT: dataframe of utr sequences to fill in\n",
    "    #OUTPUT: dataframe with column for number of ATGs, number of CTGs, etc.\n",
    "    df['NumberATGs'] = None\n",
    "    df['NumberCTGs'] = None\n",
    "    df['NumberGTGs'] = None\n",
    "    df['NumberStops'] = None\n",
    "    for ind, row in df.iterrows():\n",
    "        startCounts, altStart1Counts, altStart2Counts, stopCounts = countCodonsInUTR(row['utr'])\n",
    "        df.at[ind, 'NumberATGs'] = startCounts\n",
    "        df.at[ind, 'NumberStops'] = stopCounts\n",
    "        df.at[ind,'NumberCTGs'] = altStart1Counts\n",
    "        df.at[ind,'NumberGTGs'] = altStart2Counts\n",
    "    return df\n",
    "\n",
    "\n",
    "def getStartPositionOfCodon(utr, codon):\n",
    "    #for dataframe with one example of the codon- return the index of the codon relative to original start \n",
    "    #i.e., codon starting at index 0 in utr is -50 relative to the start, codon starting at 47 is -3 relative to original start\n",
    "    for i in range(0, len(utr) - 2):\n",
    "        #for each 3, mer check if it is the codon and return the position \n",
    "        if utr[i:i+3] == codon:\n",
    "            return i - 50 #to get actual position relative to start \n",
    "\n",
    "def makePlot(x,y, title):\n",
    "    #generates graphs \n",
    "    #input: x is positions relative to normal start, y is the mean MRL per position, title is the title for the graph\n",
    "    dashPositions = [pos for pos in x if pos%3 == 0]\n",
    "    #plotting in matplotlib, adding vertical dashes for IF positions\n",
    "    plt.plot(x,y)\n",
    "    for pos in dashPositions:\n",
    "        plt.axvline(pos, color='g', linestyle='--')\n",
    "    plt.title(title) #\"IF and OOF ATG Effects on MRL\"\n",
    "    plt.xlabel(\"Position\")\n",
    "    plt.ylabel(\"MRL\")\n",
    "    plt.show()\n",
    "    "
   ]
  },
  {
   "cell_type": "markdown",
   "metadata": {},
   "source": [
    "### 1.1 Graphing the effects of upstream starts"
   ]
  },
  {
   "cell_type": "code",
   "execution_count": null,
   "metadata": {},
   "outputs": [],
   "source": [
    "################ You will need to edit these functions ############################\n",
    "\n",
    "#here's some resources if you're stuck: \n",
    "#http://claresloggett.github.io/python_workshops/kmer_counting.html\n",
    "#https://www.geeksforgeeks.org/find-average-list-python/\n",
    "\n",
    "# Note: you will use this function to filter out sequences with multiple start codons; i.e. to simplify your analysis\n",
    "#  you will only consider sequences with exactly 1 of the start codons under consideration (ATG, CTG, or GTG). For your\n",
    "#  start codon analysis in 1.1, you will also filter out UTRs with upstream stop codons, again using the results of \n",
    "#  this function. And for 1.2, you will filter out UTRs with upstream stops.\n",
    "def countCodonsInUTR(utr):\n",
    "    \"\"\"Counts occurences of ATG, CTG, GTG, and stop codons in a single 5' UTR sequence\n",
    "\n",
    "    Args:\n",
    "        utr (string): UTR sequence\n",
    "\n",
    "    Returns:\n",
    "        tuple of ints: count of ATG in sequence, count of CTG in sequence, count of GTG in sequence, count of stops in sequence\n",
    "    \"\"\"\n",
    "    stops = ['TAA', 'TGA', 'TAG']\n",
    "    start = \"ATG\"\n",
    "    altStart1 = \"CTG\"\n",
    "    altStart2 = \"GTG\"\n",
    "    startCounts = 0\n",
    "    altStart1Counts = 0\n",
    "    altStart2Counts = 0\n",
    "    stopCounts = 0\n",
    "    #TODO: Count the number of times each start occurs in a utr and the number of time any stop occurs in a utr\n",
    "    return startCounts, altStart1Counts, altStart2Counts, stopCounts\n",
    "\n",
    "\n",
    "def meanMRL(df, colName):\n",
    "    \"\"\"Calculates position-wise MRL for some codon upstream of the start.\n",
    "\n",
    "    Args:\n",
    "        df (dataframe): Dataframe that contains a column called colName\n",
    "        colName (string): Name of column in df containing the position at which some codon occurs\n",
    "\n",
    "    Returns:\n",
    "        list: MRL per position upstream of start codon (will be used for graphing); 48 elements long\n",
    "    \"\"\" \n",
    "    output = []\n",
    "    for i in range(-50, -2):\n",
    "        sliceDfValues = df[df[colName] == i].rl.to_list() #list of all mrl values for a codon starting at position i\n",
    "        #TODO: calculate MRL for each position i \n",
    "    return list(range(-50,-2)), output\n",
    "\n"
   ]
  },
  {
   "cell_type": "code",
   "execution_count": null,
   "metadata": {},
   "outputs": [],
   "source": [
    "#1.1\n",
    "################### Don't need to edit these, just run this cell ####################################\n",
    "\n",
    "#OPEN DATASET\n",
    "train= openDataset()\n",
    "#We will be using the training set to graph mean MRL effects\n",
    "#count # starts and stops in each UTR sequence\n",
    "train = countCodonsInAllUTRs(train)\n",
    "\n",
    "#ATGs\n",
    "#Filter to just sequences with one upstream ATG, no stops\n",
    "oneStartNoStops = train[(train['NumberATGs'] == 1) & (train['NumberCTGs'] == 0) & (train['NumberGTGs'] == 0) & (train['NumberStops'] == 0)].copy().reset_index(drop = True)\n",
    "#find position where the start occurs \n",
    "oneStartNoStops['ATGPosition'] = oneStartNoStops['utr'].apply(lambda x: getStartPositionOfCodon(x, \"ATG\"))\n",
    "#drop utrs with no ATG position found\n",
    "oneStartNoStops = oneStartNoStops.dropna(subset = ['ATGPosition'])\n",
    "#calculate mean MRL based on codon position\n",
    "x, yATG = meanMRL(oneStartNoStops, 'ATGPosition')\n",
    "#graph\n",
    "makePlot(x,yATG, \"IF and OOF ATG Effects on MRL\")\n",
    "\n",
    "#CTGs\n",
    "#Filter to just sequences with one upstream CTG, no stops\n",
    "oneStartNoStops = train[(train['NumberATGs'] == 0) & (train['NumberCTGs'] == 1) & (train['NumberGTGs'] == 0) & (train['NumberStops'] == 0)].copy().reset_index(drop = True)\n",
    "oneStartNoStops['CTGPosition'] = oneStartNoStops['utr'].apply(lambda x: getStartPositionOfCodon(x, \"CTG\"))\n",
    "oneStartNoStops = oneStartNoStops.dropna(subset = ['CTGPosition'])\n",
    "x, yCTG = meanMRL(oneStartNoStops, 'CTGPosition') \n",
    "makePlot(x,yCTG, \"IF and OOF CTG Effects on MRL\")\n",
    "\n",
    "#GTG\n",
    "oneStartNoStops = train[(train['NumberATGs'] == 0) & (train['NumberCTGs'] == 0) & (train['NumberGTGs'] == 1) & (train['NumberStops'] == 0)].copy().reset_index(drop = True)\n",
    "oneStartNoStops['GTGPosition'] = oneStartNoStops['utr'].apply(lambda x: getStartPositionOfCodon(x, \"GTG\"))\n",
    "oneStartNoStops = oneStartNoStops.dropna(subset = ['GTGPosition'])\n",
    "x, yGTG = meanMRL(oneStartNoStops, 'GTGPosition')\n",
    "makePlot(x,yGTG, \"IF and OOF GTG Effects on MRL\")\n",
    "\n",
    "#Plot all mean mrl based on starts on one graph \n",
    "dashPositions = [pos for pos in x if pos%3 == 0]\n",
    "#plotting in matplotlib, adding vertical dashes for IF positions\n",
    "plt.plot(x,yATG, label = \"ATG\")\n",
    "plt.plot(x, yCTG, label = \"CTG\")\n",
    "plt.plot(x, yGTG, label = \"GTG\")\n",
    "for pos in dashPositions:\n",
    "    plt.axvline(pos, color='g', linestyle='--')\n",
    "plt.title(\"All start codon position effects on MRL\") #\"IF and OOF ATG Effects on MRL\"\n",
    "plt.xlabel(\"Position\")\n",
    "plt.ylabel(\"MRL\")\n",
    "plt.legend()\n",
    "plt.show()\n"
   ]
  },
  {
   "cell_type": "markdown",
   "metadata": {},
   "source": [
    "Summarize the effects of in frame vs. out of frame starts. Does this match what you would expect based on your knowledge of 5' UTRs? Answer in the markup cell below."
   ]
  },
  {
   "cell_type": "markdown",
   "metadata": {},
   "source": []
  },
  {
   "cell_type": "markdown",
   "metadata": {},
   "source": [
    "### 1.2 Graphing the effects of upstream stops"
   ]
  },
  {
   "cell_type": "code",
   "execution_count": null,
   "metadata": {},
   "outputs": [],
   "source": [
    "#1.2\n",
    "################### Don't need to edit these, just run this cell ####################################\n",
    "\n",
    "#Filter the dataframe to sequences with no upstream starts, 1 upstream stop \n",
    "oneStop = train[(train['NumberATGs'] == 0) & (train['NumberStops'] == 1) & (train['NumberGTGs'] == 0) & (train['NumberCTGs'] == 0)].copy().reset_index(drop = True)\n",
    "#2) Find the position of each stop codon type\n",
    "oneStop['stopPositionTAA'] = oneStop['utr'].apply(lambda x: getStartPositionOfCodon(x, \"TAA\"))\n",
    "oneStop['stopPositionTGA'] = oneStop['utr'].apply(lambda x: getStartPositionOfCodon(x, \"TGA\"))\n",
    "oneStop['stopPositionTAG'] = oneStop['utr'].apply(lambda x: getStartPositionOfCodon(x, \"TAG\"))\n",
    "#3) Filter to sequences with a TAA\n",
    "taa = oneStop.dropna(subset = ['stopPositionTAA'])\n",
    "tga = oneStop.dropna(subset = ['stopPositionTGA'])\n",
    "tag = oneStop.dropna(subset = ['stopPositionTAG'])\n",
    "#4) Calculate the mean MRL based on upstream stop position  \n",
    "x, yTAA = meanMRL(taa, \"stopPositionTAA\")\n",
    "x, yTGA = meanMRL(tga, \"stopPositionTGA\")\n",
    "x, yTAG = meanMRL(tag, \"stopPositionTAG\")\n",
    "#5)Graph\n",
    "dashPositions = [pos for pos in x if pos%3 == 0]\n",
    "#plotting in matplotlib, adding vertical dashes for IF positions\n",
    "plt.plot(x,yTAA, label = \"TAA\")\n",
    "plt.plot(x, yTGA, label = \"TGA\")\n",
    "plt.plot(x, yTAG, label = \"TAG\")\n",
    "for pos in dashPositions:\n",
    "    plt.axvline(pos, color='g', linestyle='--')\n",
    "plt.title(\"All stop codon position effects on MRL\") #\"IF and OOF ATG Effects on MRL\"\n",
    "plt.xlabel(\"Position\")\n",
    "plt.ylabel(\"MRL\")\n",
    "plt.legend()\n",
    "plt.show()\n"
   ]
  },
  {
   "cell_type": "markdown",
   "metadata": {},
   "source": [
    "What effects on MRL do upstream stop codons appear to have (if any)? Does this match your expectations? Answer in the markup cell below."
   ]
  },
  {
   "cell_type": "markdown",
   "metadata": {},
   "source": []
  }
 ],
 "metadata": {
  "kernelspec": {
   "display_name": "Python 3.9.13 64-bit (microsoft store)",
   "language": "python",
   "name": "python3"
  },
  "language_info": {
   "codemirror_mode": {
    "name": "ipython",
    "version": 3
   },
   "file_extension": ".py",
   "mimetype": "text/x-python",
   "name": "python",
   "nbconvert_exporter": "python",
   "pygments_lexer": "ipython3",
   "version": "3.9.13"
  },
  "vscode": {
   "interpreter": {
    "hash": "f43fd126eed755861b659d0a5657750b9949fa700013cfbc2049902c847cb29b"
   }
  }
 },
 "nbformat": 4,
 "nbformat_minor": 4
}
