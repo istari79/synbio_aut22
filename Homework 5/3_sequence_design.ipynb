{
 "cells": [
  {
   "cell_type": "code",
   "execution_count": 33,
   "metadata": {},
   "outputs": [],
   "source": [
    "#random mutagenesis engineering \n",
    "\n",
    "#given one sequence to work with- run random mutagenesis for X iterations to get a high score and a low score.\n",
    "#try and engineer the highest score you can \n",
    "\n",
    "import itertools\n",
    "import numpy as np\n",
    "import pandas as pd\n",
    "import seaborn as sns\n",
    "import matplotlib.pyplot as plt\n",
    "import random \n",
    "from sklearn.linear_model import LinearRegression\n",
    "import keras\n",
    "from keras.models import load_model \n",
    "from sklearn import preprocessing\n",
    "import pickle\n",
    "from pickle import dump, load\n",
    "\n",
    "%matplotlib inline"
   ]
  },
  {
   "cell_type": "code",
   "execution_count": 34,
   "metadata": {},
   "outputs": [],
   "source": [
    "model = pickle.load(open(\"best_linreg_model.pkl\", \"rb\"))"
   ]
  },
  {
   "cell_type": "code",
   "execution_count": 36,
   "metadata": {},
   "outputs": [
    {
     "name": "stdout",
     "output_type": "stream",
     "text": [
      "[5.890625 7.84375 ]\n"
     ]
    }
   ],
   "source": [
    "seqs = [\"TTCAGTAACCGTGCGTCTGCAATGTGTTCAGACTCCCCGAGTACCTTACG\", \"TAATTAGAGGGTTGAAAGCGACATCGACAGAAGGGTCTACTTGATACTCG\"]\n",
    "my_kmer_dict = create_kmer_dict(3)\n",
    "one_d_matrix = count_kmers_with_positions(seqs, my_kmer_dict, 3)\n",
    "print(model.predict(one_d_matrix))\n"
   ]
  },
  {
   "cell_type": "code",
   "execution_count": 21,
   "metadata": {},
   "outputs": [],
   "source": [
    "#3.1 functions\n",
    "\n",
    "################### Provided functions, you will not need to edit these ##################################3\n",
    "def plotPredictionChanges(predictionValues, graphTitle):\n",
    "    #plot the change in predicted values \n",
    "    plt.plot(list(range(0, len(predictionValues))), predictionValues)\n",
    "    plt.xlabel(\"Iteration\")\n",
    "    plt.ylabel(\"Predicted MRL\")\n",
    "    plt.title(graphTitle)\n",
    "    plt.show()\n",
    "    \n"
   ]
  },
  {
   "cell_type": "code",
   "execution_count": 43,
   "metadata": {},
   "outputs": [],
   "source": [
    "################ You will need to edit these functions for 3.1 ############################\n",
    "\n",
    "def mutate(sequence):\n",
    "    #uniform randomly select a position in the sequence.  Mutate it to a new nucleotide\n",
    "    #return the mutated sequence\n",
    "    #Hint: take a look at random.randint, random.sample\n",
    "    #TODO: return the mutated sequence\n",
    "    #sequence = 'GGGACATCGTAGAGAGTCGTACTTACCACTCGATTAACATGTTAACAACATACTCGTCCGGCCGATCAGCGGCTA'\n",
    "    #mut = sequence[random.randint]   #this will call the random index of the sequence\n",
    "    #random integer for valid indexing can be from 0 to len(sequence)-1 \n",
    "    randlimits = random.randint(0, len(sequence)-1)\n",
    "    #mut = sequence[randlimits]\n",
    "    randmutation = random.sample (\"ACGT\", 1) #this will give a random mutation at the position in the sequence\n",
    "    sequence[randlimits] = randmutation\n",
    "    #need to define sequence as the 50nt DNA sequence, then need to call a random position in the sequence[random.randint], save the index,\n",
    "    #and try to replace() the value at that index with \"G\" and define this new string as mutation\n",
    "    #you know the length of the string is 50 so you can say print (len(sequence[random.randint:])) to get the index\n",
    "    #print (len(sequence[random.randint:])\n",
    "    #print(sequence.replace('A','G'))\n",
    "    #print(random.randint)\n",
    "    #print (mut)\n",
    "    return sequence\n",
    "\n",
    "def runLinearRegressionPrediction(sequence, sklearnModel, k):\n",
    "    #TODO:\n",
    "    #runs a prediction for a sequence using your pretrained sklearnModel\n",
    "    #(Don't forget to add 1 column on for bias term in linear regression )\n",
    "    #x = np.hstack((np.ones((len(x),1)), x))\n",
    "    return None\n",
    "\n",
    "def mutagenesis_higher_mrl(starting_sequence, sklearnModel, kmer_dict, number_iterations, k):\n",
    "    #repeatedly mutate starting sequence and make predictions\n",
    "    #if the predicted MRL is higher, replace the sequence with the mutate version\n",
    "    #repeat this for a set number of iterations\n",
    "    #return the end product sequence and a list of the intermediate predicted values \n",
    "    predictions = []\n",
    "    #make initial prediction\n",
    "    startingValue = runLinearRegressionPrediction(starting_sequence, sklearnModel,k)\n",
    "    predictions.append(startingValue)\n",
    "    for i in range(0, number_iterations):\n",
    "        #TODO:\n",
    "        #1) make mutation to starting sequence\n",
    "        mutated_sequence = mutate (starting_sequence)\n",
    "        initial_prediction = runLinearRegressionPrediction(mutated_sequence, sklearnModel,k)\n",
    "        if initial_prediction > startingValue : \n",
    "            starting_sequence = mutated_sequence\n",
    "        #2) check if the mutant prediction is higher than past prediction & keep the higher \n",
    "        #3) append the prediction value to predictions\n",
    "            predictions.append(mutated_sequence)\n",
    "    return starting_sequence, predictions\n",
    "    \n",
    "def get50RandomNTs():\n",
    "    #TODO: return a 50 nt random sequence \n",
    "    #Hint: take a look at random.choice\n",
    "    seq =\"\"\n",
    "    for i in range (50):\n",
    "        seq += random.choice (\"ATCG\")\n",
    "        #concatentates randomly selected nucleotides up to a length of 50\n",
    "    return seq"
   ]
  },
  {
   "cell_type": "code",
   "execution_count": 44,
   "metadata": {},
   "outputs": [
    {
     "name": "stdout",
     "output_type": "stream",
     "text": [
      "CCTTCACATCAAACGCTTCTACAAACTACCTATCTAGAAAGACTAAACGG\n"
     ]
    },
    {
     "ename": "TypeError",
     "evalue": "'str' object does not support item assignment",
     "output_type": "error",
     "traceback": [
      "\u001b[0;31m---------------------------------------------------------------------------\u001b[0m",
      "\u001b[0;31mTypeError\u001b[0m                                 Traceback (most recent call last)",
      "Cell \u001b[0;32mIn [44], line 3\u001b[0m\n\u001b[1;32m      1\u001b[0m seq \u001b[38;5;241m=\u001b[39m get50RandomNTs()\n\u001b[1;32m      2\u001b[0m \u001b[38;5;28mprint\u001b[39m(seq)\n\u001b[0;32m----> 3\u001b[0m seq \u001b[38;5;241m=\u001b[39m \u001b[43mmutate\u001b[49m\u001b[43m(\u001b[49m\u001b[43mseq\u001b[49m\u001b[43m)\u001b[49m\n\u001b[1;32m      4\u001b[0m \u001b[38;5;28mprint\u001b[39m(seq)\n",
      "Cell \u001b[0;32mIn [43], line 14\u001b[0m, in \u001b[0;36mmutate\u001b[0;34m(sequence)\u001b[0m\n\u001b[1;32m     12\u001b[0m \u001b[38;5;66;03m#mut = sequence[randlimits]\u001b[39;00m\n\u001b[1;32m     13\u001b[0m randmutation \u001b[38;5;241m=\u001b[39m random\u001b[38;5;241m.\u001b[39msample (\u001b[38;5;124m\"\u001b[39m\u001b[38;5;124mACGT\u001b[39m\u001b[38;5;124m\"\u001b[39m, \u001b[38;5;241m1\u001b[39m) \u001b[38;5;66;03m#this will give a random mutation at the position in the sequence\u001b[39;00m\n\u001b[0;32m---> 14\u001b[0m sequence[randlimits] \u001b[38;5;241m=\u001b[39m randmutation\n\u001b[1;32m     15\u001b[0m \u001b[38;5;66;03m#need to define sequence as the 50nt DNA sequence, then need to call a random position in the sequence[random.randint], save the index,\u001b[39;00m\n\u001b[1;32m     16\u001b[0m \u001b[38;5;66;03m#and try to replace() the value at that index with \"G\" and define this new string as mutation\u001b[39;00m\n\u001b[1;32m     17\u001b[0m \u001b[38;5;66;03m#you know the length of the string is 50 so you can say print (len(sequence[random.randint:])) to get the index\u001b[39;00m\n\u001b[0;32m   (...)\u001b[0m\n\u001b[1;32m     20\u001b[0m \u001b[38;5;66;03m#print(random.randint)\u001b[39;00m\n\u001b[1;32m     21\u001b[0m \u001b[38;5;66;03m#print (mut)\u001b[39;00m\n\u001b[1;32m     22\u001b[0m \u001b[38;5;28;01mreturn\u001b[39;00m sequence\n",
      "\u001b[0;31mTypeError\u001b[0m: 'str' object does not support item assignment"
     ]
    }
   ],
   "source": [
    "seq = get50RandomNTs()\n",
    "print(seq)\n",
    "seq = mutate(seq)\n",
    "print(seq)"
   ]
  },
  {
   "cell_type": "code",
   "execution_count": 38,
   "metadata": {},
   "outputs": [],
   "source": [
    "#3.1\n",
    "#TODO: copy your linear regression functions here\n",
    "#TODO: train your best linear regression model from 2 to use for sequene design\n",
    "\n",
    "def create_kmer_dict(k):\n",
    "    # Create dictionary where the keys are kmer strings, and the value for each key is an integer index,\n",
    "    #  i.e. kmer_dict.values should return an np.array equal to range(4**k) This function will be used to\n",
    "    #  create consistent indexing for kmers across the other functions in this cell & notebook.\n",
    "    bases = ['A', 'C', 'G', 'T']\n",
    "\n",
    "    kmer_dict = {}\n",
    "    for i, kmer in zip(range(4**k), itertools.product('ACGT', repeat=k)):\n",
    "        string = ''.join(kmer)\n",
    "        kmer_dict[string] = i\n",
    "\n",
    "    return kmer_dict\n",
    "\n",
    "def count_kmers_with_positions(s, kmer_dict, k):\n",
    "    #for every sequence in list s, count the number of kmers with position information (see example in instructions)\n",
    "    stride = 3\n",
    "    counts = np.zeros((len(s), 4**k * stride))\n",
    "    #TODO: fill in counts matrix\n",
    "    \n",
    "    # for each sequence, look at each kmer, determine which frame it is in, and\n",
    "    # then increment the count of the appropriate index\n",
    "    for numSeq, seq in zip(range(len(s)), s):\n",
    "        for pos in range(len(seq) - k + 1):\n",
    "            kmer = seq[pos:pos+k]\n",
    "            frame = (pos - len(seq)) % stride\n",
    "            index = frame * 4**k + kmer_dict[kmer]\n",
    "            counts[numSeq][index] += 1\n",
    "    \n",
    "    return counts"
   ]
  },
  {
   "cell_type": "code",
   "execution_count": 24,
   "metadata": {},
   "outputs": [
    {
     "ename": "NameError",
     "evalue": "name 'get50RandomNTs' is not defined",
     "output_type": "error",
     "traceback": [
      "\u001b[0;31m---------------------------------------------------------------------------\u001b[0m",
      "\u001b[0;31mNameError\u001b[0m                                 Traceback (most recent call last)",
      "Cell \u001b[0;32mIn [24], line 5\u001b[0m\n\u001b[1;32m      1\u001b[0m \u001b[38;5;66;03m#3.1 \u001b[39;00m\n\u001b[1;32m      2\u001b[0m \u001b[38;5;66;03m################### Don't need to edit these, just run this cell ####################################\u001b[39;00m\n\u001b[1;32m      3\u001b[0m \u001b[38;5;28;01mfor\u001b[39;00m i \u001b[38;5;129;01min\u001b[39;00m \u001b[38;5;28mrange\u001b[39m(\u001b[38;5;241m0\u001b[39m, \u001b[38;5;241m3\u001b[39m):\n\u001b[1;32m      4\u001b[0m     \u001b[38;5;66;03m#attempt higher mutation \u001b[39;00m\n\u001b[0;32m----> 5\u001b[0m     x \u001b[38;5;241m=\u001b[39m \u001b[43mget50RandomNTs\u001b[49m()\n\u001b[1;32m      6\u001b[0m     \u001b[38;5;28mprint\u001b[39m (\u001b[38;5;124m\"\u001b[39m\u001b[38;5;124mStart sequence: \u001b[39m\u001b[38;5;124m\"\u001b[39m)\n\u001b[1;32m      7\u001b[0m     \u001b[38;5;28mprint\u001b[39m (x)\n",
      "\u001b[0;31mNameError\u001b[0m: name 'get50RandomNTs' is not defined"
     ]
    }
   ],
   "source": [
    "#3.1 \n",
    "################### Don't need to edit these, just run this cell ####################################\n",
    "for i in range(0, 3):\n",
    "    #attempt higher mutation \n",
    "    x = get50RandomNTs()\n",
    "    print (\"Start sequence: \")\n",
    "    print (x)\n",
    "    end_seq, values = mutagenesis_higher_mrl(x, linearRegressionModel, kmer_dict, 50, 5)\n",
    "    print (values[0])\n",
    "    print ('End sequence: ')\n",
    "    print(end_seq)\n",
    "    print  (values[-1])\n",
    "    plotPredictionChanges(values, \"Linear Regression High MRL Sequence \" + str(i))\n",
    "    "
   ]
  },
  {
   "cell_type": "code",
   "execution_count": 16,
   "metadata": {},
   "outputs": [],
   "source": [
    "#3.2\n",
    "#Now, attempt the same using optimus 5-prime staring with a randomnly generated 50 nt sequence \n",
    "#1) download the retrained_main_MRL_model from github (https://github.com/pjsample/human_5utr_modeling/tree/master/modeling/saved_models)\n",
    "\n",
    "\n",
    "################### Provided functions, you will not need to edit these ##################################3\n",
    "\n",
    "def one_hot_encode(seq, seq_len=50):\n",
    "    # Dictionary returning one-hot encoding of nucleotides. \n",
    "    nuc_d = {'a':[1,0,0,0],'c':[0,1,0,0],'g':[0,0,1,0],'t':[0,0,0,1], 'n':[0,0,0,0]}\n",
    "    # Creat empty matrix.\n",
    "    vectors=np.empty([1,seq_len,4])\n",
    "    seq = seq.lower()\n",
    "    a = np.array([nuc_d[x] for x in seq])\n",
    "    vectors[0] = a\n",
    "    return vectors\n",
    "\n",
    "def make_optimus_prediction(seq, model, scaler):\n",
    "    #one hot encode sequence \n",
    "    oneHot = one_hot_encode(seq)\n",
    "    # Make predictions\n",
    "    predictions = model.predict(oneHot).reshape(1, -1)\n",
    "    # scale predictions to true MRL \n",
    "    return scaler.inverse_transform(predictions)[0]\n",
    "\n",
    "def load_scaler():\n",
    "    return load(open('optimus_scaler.pkl', 'rb'))\n"
   ]
  },
  {
   "cell_type": "code",
   "execution_count": null,
   "metadata": {},
   "outputs": [],
   "source": [
    "################ You will need to edit these functions for 3.2 ############################\n",
    "\n",
    "def mutagenesis_higher_mrl_optimus(starting_sequence, model, scaler, number_iterations):\n",
    "    #TODO: modify your function from before to use one_hot_encode, make_optimus_prediction \n",
    "    #output: return your end sequence, a list of the predicted value for each iteration\n",
    "    predictions = []\n",
    "    \n",
    "    return starting_sequence, predictions"
   ]
  },
  {
   "cell_type": "code",
   "execution_count": 17,
   "metadata": {},
   "outputs": [],
   "source": [
    "#3.2\n",
    "#load downloaded keras model \n",
    "################### Don't need to edit these, just run this cell ####################################\n",
    "kerasModelName = \"retrained_main_MRL_model.hdf5\"\n",
    "model = load_model(kerasModelName)"
   ]
  },
  {
   "cell_type": "code",
   "execution_count": 18,
   "metadata": {},
   "outputs": [],
   "source": [
    "#get scaler for the optimus model \n",
    "################### Don't need to edit these, just run this cell ####################################\n",
    "scaler = load_scaler()"
   ]
  },
  {
   "cell_type": "code",
   "execution_count": 19,
   "metadata": {},
   "outputs": [
    {
     "name": "stdout",
     "output_type": "stream",
     "text": [
      "Start sequence: \n",
      "CTGGCAGTGTCTTTCGCCCCGTGTAGTCGATAATATCAGCGGCATTTAGT\n",
      "7.461041\n",
      "End sequence:  CTGAAAGTATTTATAGCCCCGTGTAGTCGAAATTATTATCGGCATTTAGT\n",
      "7.896367\n"
     ]
    },
    {
     "data": {
      "image/png": "[encoded data removed]",
      "text/plain": [
       "<Figure size 432x288 with 1 Axes>"
      ]
     },
     "metadata": {
      "needs_background": "light"
     },
     "output_type": "display_data"
    },
    {
     "name": "stdout",
     "output_type": "stream",
     "text": [
      "Start sequence: \n",
      "TTGGCACAGAATCCGTAAGGCTTCGAGGCACTACATGAACGTGGGACAGC\n",
      "5.8468895\n",
      "End sequence:  TTGGTACAGAATACCTAAGGCTTCGAGGTTATATTTGAAAGAGGTAGATC\n",
      "7.831445\n"
     ]
    },
    {
     "data": {
      "image/png": "[encoded data removed]",
      "text/plain": [
       "<Figure size 432x288 with 1 Axes>"
      ]
     },
     "metadata": {
      "needs_background": "light"
     },
     "output_type": "display_data"
    },
    {
     "name": "stdout",
     "output_type": "stream",
     "text": [
      "Start sequence: \n",
      "AACCCGACATGTGAGTTACGGAGGAGTTAAATGGACCTTCAAATAATCCT\n",
      "3.384226\n",
      "End sequence:  GACCGGAATTGAGGTTATCGGACGAATTACATCGACCTTCCATTAAACCT\n",
      "7.5634828\n"
     ]
    },
    {
     "data": {
      "image/png": "[encoded data removed]",
      "text/plain": [
       "<Figure size 432x288 with 1 Axes>"
      ]
     },
     "metadata": {
      "needs_background": "light"
     },
     "output_type": "display_data"
    }
   ],
   "source": [
    "################### Don't need to edit these, just run this cell ####################################\n",
    "#3.1 \n",
    "for i in range(0, 3):\n",
    "    #attempt higher mutation \n",
    "    x = get50RandomNTs()\n",
    "    print (\"Start sequence: \")\n",
    "    print (x)\n",
    "    end_seq, values = mutagenesis_higher_mrl_optimus(x, model, scaler, 50)\n",
    "    print (values[0])\n",
    "    print ('End sequence: ')\n",
    "    print (end_seq)\n",
    "    print  (values[-1])\n",
    "    plotPredictionChanges(values, \"Optimus High MRL Sequence \" + str(i))\n",
    "    "
   ]
  },
  {
   "cell_type": "code",
   "execution_count": null,
   "metadata": {},
   "outputs": [],
   "source": []
  }
 ],
 "metadata": {
  "kernelspec": {
   "display_name": "Python 3 (ipykernel)",
   "language": "python",
   "name": "python3"
  },
  "language_info": {
   "codemirror_mode": {
    "name": "ipython",
    "version": 3
   },
   "file_extension": ".py",
   "mimetype": "text/x-python",
   "name": "python",
   "nbconvert_exporter": "python",
   "pygments_lexer": "ipython3",
   "version": "3.9.15"
  }
 },
 "nbformat": 4,
 "nbformat_minor": 4
}
