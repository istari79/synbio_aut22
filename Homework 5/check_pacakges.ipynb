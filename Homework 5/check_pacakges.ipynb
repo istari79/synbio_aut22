{
 "cells": [
  {
   "cell_type": "code",
   "execution_count": 1,
   "id": "f5fdd061-49c4-4f2b-878a-a6007337521a",
   "metadata": {},
   "outputs": [],
   "source": [
    "import pandas as pd\n",
    "import numpy as np\n",
    "import matplotlib\n",
    "import seaborn as sns \n",
    "import itertools\n",
    "import random \n",
    "import pickle\n",
    "import sklearn\n",
    "import keras\n",
    "\n",
    "#if your environment is ready for the demo, this cell should run without any errors "
   ]
  }
 ],
 "metadata": {
  "kernelspec": {
   "display_name": "Python 3 (ipykernel)",
   "language": "python",
   "name": "python3"
  },
  "language_info": {
   "codemirror_mode": {
    "name": "ipython",
    "version": 3
   },
   "file_extension": ".py",
   "mimetype": "text/x-python",
   "name": "python",
   "nbconvert_exporter": "python",
   "pygments_lexer": "ipython3",
   "version": "3.9.7"
  }
 },
 "nbformat": 4,
 "nbformat_minor": 5
}
